{
 "cells": [
  {
   "cell_type": "code",
   "execution_count": 3,
   "metadata": {
    "collapsed": false
   },
   "outputs": [
    {
     "name": "stdout",
     "output_type": "stream",
     "text": [
      "Tweets contain 'cve'：  644\n",
      "Twitter 總數： 71\n"
     ]
    }
   ],
   "source": [
    "import pyes\n",
    "\n",
    "conn = pyes.es.ES(server=[('http', 'localhost', 9200)])\n",
    "bq = pyes.query.BoolQuery() \n",
    "# BoolQuery本身是一個Query的組合，可以使用add_must(), add_must_not(), add_should()來使用。\n",
    "\n",
    "bq.add_must(pyes.query.TermQuery(field=\"text\", value=\"cve\")) #(field, term)\n",
    "#bq.add_must_not(pyes.query.TermQuery(\"name\",\"john\")) #(field, term)\n",
    "\n",
    "result = conn.search(query=bq, indices='twitter2' , doc_types='tweet') \n",
    "#使用Boolquery來當query的值。\n",
    "  \n",
    "print \"Tweets contain 'cve'： \",len(result)  #tweets contain \"cve\"\n",
    "StoreExceptDuplicates = set()\n",
    "for x in result:\n",
    "    StoreExceptDuplicates.add(x['uid'])\n",
    "    \n",
    "print \"Twitter 總數：\",len(StoreExceptDuplicates)\n"
   ]
  },
  {
   "cell_type": "code",
   "execution_count": 10,
   "metadata": {
    "collapsed": false
   },
   "outputs": [
    {
     "name": "stdout",
     "output_type": "stream",
     "text": [
      "Tweets contain 'obama'：  1010\n",
      "Twitter 總數： 92\n"
     ]
    }
   ],
   "source": [
    "import pyes\n",
    "\n",
    "conn = pyes.es.ES(server=[('http', 'localhost', 9200)])\n",
    "bq = pyes.query.BoolQuery() \n",
    "# BoolQuery本身是一個Query的組合，可以使用add_must(), add_must_not(), add_should()來使用。\n",
    "\n",
    "bq.add_must(pyes.query.TermQuery(field=\"text\", value=\"obama\")) #(field, term)\n",
    "#bq.add_must_not(pyes.query.TermQuery(\"name\",\"john\")) #(field, term)\n",
    "\n",
    "result = conn.search(query=bq, indices='twitter2' , doc_types='tweet') \n",
    "#使用Boolquery來當query的值。\n",
    "  \n",
    "print \"Tweets contain 'obama'： \",len(result)  #tweets contain obama\n",
    "StoreExceptDuplicates = set()\n",
    "for x in result:\n",
    "    StoreExceptDuplicates.add(x['uid'])\n",
    "    \n",
    "print \"Twitter 總數：\",len(StoreExceptDuplicates)\n"
   ]
  },
  {
   "cell_type": "code",
   "execution_count": 12,
   "metadata": {
    "collapsed": false
   },
   "outputs": [
    {
     "name": "stdout",
     "output_type": "stream",
     "text": [
      "Tweets contain 'Vulnerability'：  2242\n",
      "Twitter 總數： 96\n"
     ]
    }
   ],
   "source": [
    "import pyes\n",
    "\n",
    "conn = pyes.es.ES(server=[('http', 'localhost', 9200)])\n",
    "bq = pyes.query.BoolQuery() \n",
    "# BoolQuery本身是一個Query的組合，可以使用add_must(), add_must_not(), add_should()來使用。\n",
    "\n",
    "bq.add_must(pyes.query.TermQuery(field=\"text\", value=\"vulnerability\")) #(field, term)\n",
    "#bq.add_must_not(pyes.query.TermQuery(\"name\",\"john\")) #(field, term)\n",
    "\n",
    "result = conn.search(query=bq, indices='twitter2' , doc_types='tweet') \n",
    "#使用Boolquery來當query的值。\n",
    "  \n",
    "print \"Tweets contain 'vulnerability'： \",len(result)  #tweets contain Vulnerability\n",
    "StoreExceptDuplicates = set()\n",
    "for x in result:\n",
    "    StoreExceptDuplicates.add(x['uid'])\n",
    "    \n",
    "print \"Twitter 總數：\",len(StoreExceptDuplicates)"
   ]
  }
 ],
 "metadata": {
  "anaconda-cloud": {},
  "kernelspec": {
   "display_name": "Python [default]",
   "language": "python",
   "name": "python2"
  },
  "language_info": {
   "codemirror_mode": {
    "name": "ipython",
    "version": 2
   },
   "file_extension": ".py",
   "mimetype": "text/x-python",
   "name": "python",
   "nbconvert_exporter": "python",
   "pygments_lexer": "ipython2",
   "version": "2.7.12"
  }
 },
 "nbformat": 4,
 "nbformat_minor": 1
}
