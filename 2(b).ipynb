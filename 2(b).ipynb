{
 "cells": [
  {
   "cell_type": "code",
   "execution_count": 3,
   "metadata": {
    "collapsed": false
   },
   "outputs": [
    {
     "name": "stdout",
     "output_type": "stream",
     "text": [
      "全部的tweets :  392792\n"
     ]
    },
    {
     "data": {
      "text/plain": [
       "392792"
      ]
     },
     "execution_count": 3,
     "metadata": {},
     "output_type": "execute_result"
    }
   ],
   "source": [
    "import pyes\n",
    "#from elasticsearch import Elasticsearch\n",
    "#es = Elasticsearch([{'host': 'localhost', 'port': 9200}])\n",
    "#es_address='127.0.0.1:9200'\n",
    "#conn = pyes.es.ES(es_address)\n",
    "conn = pyes.es.ES(server=[('http', 'localhost', 9200)])\n",
    "\n",
    "q = pyes.query.MatchAllQuery()\n",
    "\n",
    "result = conn.search(query=q , indices='twitter2' , doc_types='tweet')# 全部的tweets \n",
    "print(\"全部的tweets : \") ,\n",
    "print(len(result))\n",
    "\n",
    "len(result)"
   ]
  }
 ],
 "metadata": {
  "anaconda-cloud": {},
  "kernelspec": {
   "display_name": "Python [default]",
   "language": "python",
   "name": "python2"
  },
  "language_info": {
   "codemirror_mode": {
    "name": "ipython",
    "version": 2
   },
   "file_extension": ".py",
   "mimetype": "text/x-python",
   "name": "python",
   "nbconvert_exporter": "python",
   "pygments_lexer": "ipython2",
   "version": "2.7.12"
  }
 },
 "nbformat": 4,
 "nbformat_minor": 1
}
