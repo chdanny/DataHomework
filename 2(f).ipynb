{
 "cells": [
  {
   "cell_type": "code",
   "execution_count": 1,
   "metadata": {
    "collapsed": false
   },
   "outputs": [
    {
     "name": "stderr",
     "output_type": "stream",
     "text": [
      "/Users/chsu/anaconda/lib/python2.7/site-packages/seaborn/categorical.py:2171: UserWarning: The boxplot API has been changed. Attempting to adjust your arguments for the new API (which might not work). Please update your code. See the version 0.6 release notes for more info.\n",
      "  warnings.warn(msg, UserWarning)\n"
     ]
    },
    {
     "data": {
      "image/png": "[encoded data removed]",
      "text/plain": [
       "<matplotlib.figure.Figure at 0x114d58d10>"
      ]
     },
     "metadata": {},
     "output_type": "display_data"
    }
   ],
   "source": [
    "%matplotlib inline\n",
    "import pandas as pd\n",
    "from pandas import DataFrame, Series\n",
    "import matplotlib.pyplot as plt\n",
    "import seaborn as sb\n",
    "sb.set_style(\"darkgrid\")\n",
    "import pyes\n",
    "from datetime import datetime\n",
    "from calendar import monthrange\n",
    "\n",
    "conn = pyes.es.ES(server=[('http', 'localhost', 9200)])\n",
    "\n",
    "Month_Twitter = dict()\n",
    "\n",
    "def queryResult(Sfrom, Sto, Y, M):\n",
    "    q = pyes.query.BoolQuery()\n",
    "    ESR = pyes.ESRange(field=\"created_at\", from_value=Sfrom, to_value=Sto, include_lower=True ,include_upper=True)\n",
    "    q.add_must(pyes.query.TermQuery(field=\"text\", value=\"cve\"))\n",
    "    q.add_must(pyes.query.RangeQuery(qrange=ESR))\n",
    "    result = None\n",
    "    result = conn.search(query=q , indices='twitter2' , doc_types='tweet')\n",
    "    storage = set() \n",
    "    for x in result:\n",
    "            storage.add(x['uid'])\n",
    "    if M in Month_Twitter:\n",
    "        Month_Twitter[M].append(len(storage))\n",
    "    else:\n",
    "        Month_Twitter[M] = [len(storage)]\n",
    "    return\n",
    "def DataConvert(s):\n",
    "    date_object = datetime.strptime(s, '%Y %m %d %X') \n",
    "    dt_str = date_object.ctime() \n",
    "    dt_list = dt_str.split() \n",
    "    dt_list.insert(4, '+0000') \n",
    "    dt_result = ' '.join(dt_list) \n",
    "    return dt_result \n",
    "\n",
    "###main\n",
    "for y in range(2009, 2014):\n",
    "    for m in range(1, 13):\n",
    "        dt_from = [y, m, '1', '00:00:00']\n",
    "        dt_to = [y, m, monthrange(y, m)[1], '23:59:59']\n",
    "        Sdt_from = DataConvert(' '.join(str(v) for v in dt_from))\n",
    "        Sdt_to = DataConvert(' '.join(str(v) for v in dt_to))\n",
    "        queryResult(Sdt_from, Sdt_to, y, m)\n",
    "\n",
    "picRes = pd.DataFrame(dict([(k,Series(v)) for k,v in Month_Twitter.iteritems()])) \n",
    "ax = sb.boxplot(picRes, vert=True, showmeans=True) # draw the graph"
   ]
  }
 ],
 "metadata": {
  "anaconda-cloud": {},
  "kernelspec": {
   "display_name": "Python [default]",
   "language": "python",
   "name": "python2"
  },
  "language_info": {
   "codemirror_mode": {
    "name": "ipython",
    "version": 2
   },
   "file_extension": ".py",
   "mimetype": "text/x-python",
   "name": "python",
   "nbconvert_exporter": "python",
   "pygments_lexer": "ipython2",
   "version": "2.7.12"
  }
 },
 "nbformat": 4,
 "nbformat_minor": 1
}
